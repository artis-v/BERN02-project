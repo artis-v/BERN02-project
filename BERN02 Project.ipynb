{
 "cells": [
  {
   "cell_type": "markdown",
   "metadata": {},
   "source": [
    "Artis Vijups, October 24, 2024"
   ]
  },
  {
   "cell_type": "markdown",
   "metadata": {},
   "source": [
    "# Background on elections in the United Kingdom\n",
    "\n",
    "For election purposes, the UK is divided into 650 constituencies with similar populations. Each constituency elects 1 member to the UK Parliament. The elected candidate is the one who receives a plurality of votes within the constituency (more votes than any one other candidate).\n",
    "\n",
    "On election night, one announcement is made per constituency, which is of the final result in that constituency - how many votes each candidate received, and which candidate is therefore elected. No partial results are published beforehand.\n",
    "\n",
    "In the 2017 election, five parties won multiple seats in Great Britain: Labour (Lab), the Conservatives (Con), Liberal Democrats (LD), Scottish National Party (SNP) and Plaid Cymru (PC)."
   ]
  },
  {
   "cell_type": "markdown",
   "metadata": {},
   "source": [
    "# The project\n",
    "\n",
    "The goal of the project is to create a statistical model that can predict how many constituencies each of the five considered parties is going to win in the 2019 UK election, given a set of the first constituency results that were announced, as well as the results of the three previous elections (2017, 2015, 2010) in each constituency, results from the 2016 Brexit referendum, and census data about each constituency from 2011.\n",
    "\n",
    "In particular, the purpose is to predict the number of constituencies each of the parties will win out of the remaining constituencies.\n",
    "\n",
    "The complete project, including the original Jupyter notebook `.ipynb` file, is available in a [GitHub repository](https://github.com/artis-v/BERN02-project).\n",
    "\n",
    "All data is sourced from the [House of Commons Library](https://commonslibrary.parliament.uk/), which licenses its content under the [Open Parliament Licence v3.0](https://www.parliament.uk/site-information/copyright-parliament/open-parliament-licence/)."
   ]
  },
  {
   "cell_type": "markdown",
   "metadata": {},
   "source": [
    "# Workflow"
   ]
  },
  {
   "cell_type": "code",
   "execution_count": 1,
   "metadata": {
    "tags": [],
    "vscode": {
     "languageId": "r"
    }
   },
   "outputs": [
    {
     "name": "stderr",
     "output_type": "stream",
     "text": [
      "Linking to GEOS 3.11.2, GDAL 3.8.2, PROJ 9.3.1; sf_use_s2() is TRUE\n",
      "\n"
     ]
    }
   ],
   "source": [
    "library(dplyr, warn.conflicts = FALSE)\n",
    "library(tidyr)\n",
    "library(readxl)\n",
    "library(mgsub)\n",
    "library(nnet)\n",
    "library(ggplot2)\n",
    "library(sf)"
   ]
  },
  {
   "cell_type": "markdown",
   "metadata": {},
   "source": [
    "## Reading the data\n",
    "\n",
    "We begin by setting up three vectors for the five considered parties, the parties including Oth (Others), and party colors."
   ]
  },
  {
   "cell_type": "code",
   "execution_count": 2,
   "metadata": {
    "vscode": {
     "languageId": "r"
    }
   },
   "outputs": [],
   "source": [
    "considered_parties <- c(\"Lab\", \"Con\", \"LD\", \"SNP\", \"PC\")\n",
    "parties <- c(considered_parties, \"Oth\")\n",
    "colors <- c(\"red\", \"blue\", \"orange\", \"black\", \"darkgreen\", \"gray\")"
   ]
  },
  {
   "cell_type": "markdown",
   "metadata": {},
   "source": [
    "We create a function `read` that can read a CSV file containing the results of an election, and return a data frame with 650 rows: one row per constituency, containing its name, country (England, Scotland, Wales or Northern Ireland) and each party's vote share."
   ]
  },
  {
   "cell_type": "code",
   "execution_count": 3,
   "metadata": {
    "vscode": {
     "languageId": "r"
    }
   },
   "outputs": [],
   "source": [
    "read <- function(file, prefix = \"\"){\n",
    "    # read file and only keep necessary columns\n",
    "    res <- read.csv(file)[, c(\"Country.name\", \"Constituency.name\", \"Main.party.abbreviation\", \"Candidate.vote.share\")]\n",
    "\n",
    "    # rename columns\n",
    "    colnames(res) <- c(\"country\", \"constituency\", \"party\", \"share\")\n",
    "\n",
    "    # let all non-considered parties be Oth\n",
    "    res <- res %>% mutate(party = ifelse(party %in% considered_parties, party, \"Oth\"))\n",
    "\n",
    "    # add up the vote share for Oth\n",
    "    res <- aggregate(share ~ . - share, data = res, FUN = sum)\n",
    "\n",
    "    # pivot to one row per constituency\n",
    "    res <- res %>% pivot_wider(names_from = party, values_from = share, names_prefix = prefix)\n",
    "\n",
    "    # if a party got no votes, put 0% share\n",
    "    res <- res %>% mutate(across(everything(), ~replace(., is.na(.), 0.)))\n",
    "\n",
    "    return(res)\n",
    "}"
   ]
  },
  {
   "cell_type": "markdown",
   "metadata": {},
   "source": [
    "We create a function `census` that can read a sheet from the 2011 Census data spreadsheet, and return a data frame containing the requested columns of information."
   ]
  },
  {
   "cell_type": "code",
   "execution_count": 4,
   "metadata": {
    "tags": []
   },
   "outputs": [],
   "source": [
    "census <- function(sheet_name, columns, column_names){\n",
    "    # read relevant sheet\n",
    "    sheet <- read_excel(\"census2011.xlsx\", sheet = sheet_name, .name_repair = \"unique_quiet\")\n",
    "    \n",
    "    # retain only the requested columns\n",
    "    keep <- sheet[5:654, c(2, columns)]\n",
    "    colnames(keep) <- c(\"constituency\", column_names)\n",
    "    \n",
    "    # align constituency names with the result CSV files\n",
    "    keep$constituency <- mgsub(keep$constituency,\n",
    "        c(\"-under\", \"-on\", \"-upon\", \"upon Tyne\", \"an Iar\", \" of\", \"Pembrokeshire South\"),\n",
    "        c(\"-Under\", \"-On\", \"-Upon\", \"Upon Tyne\", \"An Iar\", \" Of\", \"South Pembrokeshire\"))\n",
    "    \n",
    "    # turn strings into numbers between 0 and 1\n",
    "    keep[column_names] <- as.data.frame(lapply(keep[column_names], function(x) { as.numeric(x) / 100 }))\n",
    "    \n",
    "    return(keep)\n",
    "}"
   ]
  },
  {
   "cell_type": "markdown",
   "metadata": {},
   "source": [
    "We use these functions to create `res`, a data frame containing the results from the past three elections and census data.\n",
    "\n",
    "Observe that the constituencies in Northern Ireland, and the Chorley constituency, are not included in `res`. This is because the five considered parties chose not to contest these constituencies in advance of the 2019 election. Therefore, Oth is the guaranteed winner."
   ]
  },
  {
   "cell_type": "code",
   "execution_count": 5,
   "metadata": {
    "tags": []
   },
   "outputs": [],
   "source": [
    "# read election results\n",
    "res <- read(\"results2017.csv\", \"17.\")\n",
    "res <- merge(res, read(\"results2015.csv\", \"15.\"), by = cbind(\"country\", \"constituency\"))\n",
    "res <- merge(res, read(\"results2010.csv\", \"10.\"), by = cbind(\"country\", \"constituency\"))\n",
    "\n",
    "# remove NI and Chorley\n",
    "res <- filter(res, country != \"Northern Ireland\")\n",
    "res <- filter(res, constituency != \"Chorley\")\n",
    "\n",
    "# remaining number of constituencies\n",
    "model_constituencies <- 631\n",
    "\n",
    "# include census data\n",
    "res <- merge(res, \n",
    "             census(\"KS101D\", 12, \"Gender.Male\"), \n",
    "             by = \"constituency\")\n",
    "res <- merge(res, \n",
    "             census(\"KS102D\", c(114, 120, 126, 132), c(\"Age.16.24\", \"Age.25.44\", \"Age.45.64\", \"Age.65.Up\")), \n",
    "             by = \"constituency\")\n",
    "res <- merge(res, \n",
    "             census(\"KS105D\", c(12, 30), c(\"Composition.Alone\", \"Composition.Family\")), \n",
    "             by = \"constituency\")\n",
    "res <- merge(res, \n",
    "             census(\"KS106D\", 12, \"All.Unemployed\"), \n",
    "             by = \"constituency\")\n",
    "res <- merge(res, \n",
    "             census(\"KS201D\", c(12, 42, 72, 108), c(\"Eth.White\", \"Eth.Mixed\", \"Eth.Asian\", \"Eth.Black\")), \n",
    "             by = \"constituency\")\n",
    "res <- merge(res, \n",
    "             census(\"KS204D\", c(12, 54, 72), c(\"Born.UK\", \"Born.EU\", \"Born.Other\")), \n",
    "             by = \"constituency\")\n",
    "res <- merge(res, \n",
    "             census(\"KS301D\", c(12, 18, 24, 30, 36), c(\"Health.VG\", \"Health.G\", \"Health.F\", \"Health.B\", \"Health.VB\")), \n",
    "             by = \"constituency\")\n",
    "res <- merge(res, \n",
    "             census(\"KS402D\", c(18, 24, 36, 54), c(\"House.Own\", \"House.Mortgage\", \"House.Social\", \"House.Rent\")), \n",
    "             by = \"constituency\")\n",
    "res <- merge(res, \n",
    "             census(\"KS501D\", c(12, 18, 24, 36, 42), c(\"No.Qual\", \"Lev.1\", \"Lev.2\", \"Lev.3\", \"Lev.4\")), \n",
    "             by = \"constituency\")\n",
    "res <- merge(res, \n",
    "             census(\"KS601D\", 42, \"Unemployed\"), \n",
    "             by = \"constituency\")"
   ]
  },
  {
   "cell_type": "markdown",
   "metadata": {},
   "source": [
    "We also add the results from the estimated results by constituency of 2016 Brexit referendum."
   ]
  },
  {
   "cell_type": "code",
   "execution_count": 6,
   "metadata": {},
   "outputs": [],
   "source": [
    "# read referendum spreadsheet, keep only needed constituencies and leave vote\n",
    "ref <- read_excel(\"referendum.xlsx\", sheet = \"DATA\", .name_repair = \"unique_quiet\", skip = 5)[3:652, 1:3]\n",
    "colnames(ref) <- c(\"code\", \"constituency\", \"Voted.Leave\")\n",
    "ref <- filter(ref, !(startsWith(code, \"N\")))\n",
    "ref <- filter(ref, !(constituency == \"Chorley\"))\n",
    "ref <- within(ref, rm(code))\n",
    "\n",
    "# align constituency names with the result CSV files\n",
    "ref$constituency <- mgsub(ref$constituency,\n",
    "    c(\"-under\", \"-on\", \"-upon\", \"upon Tyne\", \"an Iar\", \" of\", \"Ynys Mon\"),\n",
    "    c(\"-Under\", \"-On\", \"-Upon\", \"Upon Tyne\", \"An Iar\", \" Of\", \"Ynys Môn\"))\n",
    "\n",
    "# merge into res\n",
    "res <- merge(res, ref, by = \"constituency\")"
   ]
  },
  {
   "cell_type": "markdown",
   "metadata": {},
   "source": [
    "Next, we read the CSV file containing the times at which each constituency declared its results, and let `times` be a vector containing the 631 constituencies in order of declaration time."
   ]
  },
  {
   "cell_type": "code",
   "execution_count": 7,
   "metadata": {},
   "outputs": [],
   "source": [
    "# read CSV of declaration times\n",
    "times <- read.csv(\"times2019.csv\")\n",
    "\n",
    "# remove NI and Chorley\n",
    "times <- filter(times, !(startsWith(Constituency.geographic.code, \"N\")))\n",
    "times <- filter(times, !(Constituency.name == \"Chorley\"))\n",
    "\n",
    "# keep vector of constituencies in declaration time order\n",
    "times <- times[[\"Constituency.name\"]]"
   ]
  },
  {
   "cell_type": "markdown",
   "metadata": {},
   "source": [
    "Finally, we create `full_res`, which is a version of `res` that includes the 2019 results and is ordered by declaration time."
   ]
  },
  {
   "cell_type": "code",
   "execution_count": 8,
   "metadata": {},
   "outputs": [],
   "source": [
    "# add 2019 results\n",
    "full_res <- merge(res, read(\"results2019.csv\"), by = cbind(\"country\", \"constituency\"))\n",
    "\n",
    "# sort by declaration time\n",
    "full_res <- full_res %>% arrange(factor(constituency, levels = times))"
   ]
  },
  {
   "cell_type": "markdown",
   "metadata": {},
   "source": [
    "## Creating the model\n",
    "\n",
    "If we were to only consider two parties, a reasonable choice for a statistical model would be a logistic regression model. This is because the response variable would be binary: either the first party wins, or the second party wins.\n",
    "\n",
    "However, instead of two possible responses, we have six (Lab, Con, LD, SNP, PC, Oth). Section 4.3.5 of the BERN02 course textbook proposes multinomial logistic regression as a way of generalizing logistic regression to more than two response classes. This is the method used in this project.\n",
    "\n",
    "Representing the coefficients with $\\beta$ and observations with $x,$ the model can be expressed with the equations \\begin{align*}\\mathbb{P}(\\text{winner}=\\text{party})&=\\dfrac{1}{1+\\sum_{p\\in\\text{parties}\\backslash\\text{Lab}}e^{\\beta_{p0}}+e^{\\beta_{p1}}x_1+e^{\\beta_{p2}}x_2+\\ldots}\\qquad\\text{if party is Lab},\\\\\\mathbb{P}(\\text{winner}=\\text{party})&=\\dfrac{e^{\\beta_{\\text{party}0}}+e^{\\beta_{\\text{party}1}}x_1+e^{\\beta_{\\text{party}2}}x_2+\\ldots}{1+\\sum_{p\\in\\text{parties}\\backslash\\text{Lab}}e^{\\beta_{p0}}+e^{\\beta_{p1}}x_1+e^{\\beta_{p2}}x_2+\\ldots}\\qquad\\text{otherwise}.\\end{align*}\n",
    "\n",
    "Observe that $\\sum_{\\text{party}\\in\\text{parties}}\\mathbb{P}(\\text{winner}=\\text{party})=1$. This allows us to interpret the individual probabilities as the vote shares in the constituency.\n",
    "\n",
    "In R, this type of model can be created using the `nnet::multinom()` function. We use all the included past election and census data as predictors, and the results from 2019 as the response variables.\n",
    "\n",
    "The `slate` function creates this model using the data from a number `called` of constituencies that declared their results first, and then makes predictions for the remaining constituencies. This function returns the vote share each party has received."
   ]
  },
  {
   "cell_type": "code",
   "execution_count": 9,
   "metadata": {},
   "outputs": [],
   "source": [
    "slate <- function(called){\n",
    "    # return empty data frame if nothing to predict\n",
    "    if(called == model_constituencies){\n",
    "        return(data.frame())\n",
    "    }\n",
    "    \n",
    "    # make data frame of called constituencies\n",
    "    full_sample <- full_res %>% slice(1 : called)\n",
    "    full_sample <- within(full_sample, rm(\"constituency\"))\n",
    "    full_sample <- full_sample %>% \n",
    "        mutate(country = case_when(country == \"Wales\" ~ -1, country == \"England\" ~ 0, country == \"Scotland\" ~ 1))\n",
    "    \n",
    "    # create the multinomial logistic regression model\n",
    "    model_formula <- paste(\"cbind(\", paste(unlist(parties), collapse = \", \"), \") ~ .\")\n",
    "    model <- multinom(as.formula(model_formula), data = full_sample, trace = FALSE)\n",
    "    \n",
    "    # make data frame of uncalled constituencies\n",
    "    full_todo <- full_res %>% slice(called + 1 : model_constituencies)\n",
    "    full_todo <- full_todo %>% \n",
    "        mutate(country = case_when(country == \"Wales\" ~ -1, country == \"England\" ~ 0, country == \"Scotland\" ~ 1))\n",
    "    \n",
    "    # predict the results in each constituency\n",
    "    pred <- predict(model, newdata = full_todo, type = \"probs\")\n",
    "    \n",
    "    # return data frame with the share of the vote by party in each constituency\n",
    "    if(called == model_constituencies - 1){\n",
    "        pred <- as.data.frame(t(pred))\n",
    "    }\n",
    "    pred <- cbind(full_todo$constituency, pred)\n",
    "    return(pred)\n",
    "}"
   ]
  },
  {
   "cell_type": "markdown",
   "metadata": {},
   "source": [
    "The `seats` function returns the predicted total number of constituencies won by each party, using the data frame of vote shares returned by `slate`."
   ]
  },
  {
   "cell_type": "code",
   "execution_count": 10,
   "metadata": {},
   "outputs": [],
   "source": [
    "seats <- function(called){\n",
    "    # get predicted vote shares\n",
    "    pred <- slate(called)\n",
    "    \n",
    "    # list the winners in all constituencies\n",
    "    if(called == model_constituencies){\n",
    "        winners <- c(parties[apply(full_res[, parties], 1, which.max)])\n",
    "    }else{\n",
    "        winners <- c(parties[apply(full_res[, parties], 1, which.max)][1 : called], \n",
    "                     parties[apply(pred[, parties], 1, which.max)])\n",
    "    }\n",
    "    \n",
    "    # turn into a data frame, adding 19 to Oth\n",
    "    party_counts <- table(winners)\n",
    "    party_vector <- setNames(rep(0, length(parties)), parties)\n",
    "    party_vector[names(party_counts)] <- as.vector(party_counts)\n",
    "    party_vector[\"Oth\"] <- party_vector[\"Oth\"] + 19\n",
    "    party_df <- as.data.frame(as.list(party_vector))\n",
    "    return(party_df)\n",
    "}"
   ]
  },
  {
   "cell_type": "markdown",
   "metadata": {},
   "source": [
    "## Results and visualisations\n",
    "\n",
    "First, we make a graph of the predicted total number of constituencies won by each party in the election, depending on the number of constituencies whose results were made available for creating the model."
   ]
  },
  {
   "cell_type": "code",
   "execution_count": 11,
   "metadata": {},
   "outputs": [
    {
     "data": {
      "image/png": "[encoded data removed]",
      "text/plain": [
       "Plot with title \"Predicted total constituencies won\""
      ]
     },
     "metadata": {
      "image/png": {
       "height": 420,
       "width": 420
      }
     },
     "output_type": "display_data"
    }
   ],
   "source": [
    "# get predictions\n",
    "range <- c(1:631)\n",
    "predictions <- lapply(range, seats)\n",
    "predictions <- do.call(rbind, predictions)\n",
    "\n",
    "# plot\n",
    "matplot(range, predictions[parties], type = \"l\", lty = 1,\n",
    "        xlab = \"Called\", ylab = \"Seats\", lwd = 3, col = colors)\n",
    "legend(\"topright\", legend = parties, col = colors, lty = 1, lwd = 3, cex = 1.3)\n",
    "title(\"Predicted total constituencies won\")\n",
    "abline(h = 325)"
   ]
  },
  {
   "cell_type": "markdown",
   "metadata": {},
   "source": [
    "The model first predicted a Conservative majority in parliament when the Blyth Valley constituency was called at 23:32 PM. This was the 3rd of 650 results declared.\n",
    "\n",
    "From there on in, as shown in the graph above, the model always predicted a Conservative majority, which ended up being the actual outcome of the election."
   ]
  },
  {
   "cell_type": "code",
   "execution_count": 12,
   "metadata": {},
   "outputs": [
    {
     "name": "stdout",
     "output_type": "stream",
     "text": [
      "                                         Lab    Con    LD SNP PC    Oth\n",
      "2017: Actual share in Blyth Valley    55.94% 37.31% 4.58%  0% 0%  2.16%\n",
      "2019: Predicted share in Blyth Valley 41.29% 32.56% 6.02%  0% 0% 20.13%\n",
      "2019: Actual share in Blyth Valley    40.94% 42.68% 5.26%  0% 0% 11.11%\n",
      "Predicted total before                   623      8     0   0  0     19\n",
      "Predicted total after                    275    356     0   0  0     19\n",
      "Actual total                             202    365    11  48  4     20\n"
     ]
    }
   ],
   "source": [
    "summarize <- function(call_number){\n",
    "    # get predictions before call\n",
    "    p <- slate(call_number - 1)\n",
    "    \n",
    "    # combine constituency prediction with actual result and 2017 result\n",
    "    r2017 <- full_res[call_number, paste0(\"17.\", parties)]\n",
    "    colnames(r2017) <- parties\n",
    "    df <- rbind(r2017, p[1, parties], full_res[call_number, parties])\n",
    "    \n",
    "    # format as percentages\n",
    "    df <- as.data.frame(lapply(df, function(x) { paste(round(as.numeric(x) * 100, 2), \"%\", sep = \"\") }))\n",
    "    \n",
    "    # add predicted and actual totals\n",
    "    df <- rbind(df, seats(call_number - 1), seats(call_number), seats(model_constituencies))\n",
    "    \n",
    "    # return data frame\n",
    "    rownames(df) <- c(paste(\"2017: Actual share in\", full_res[call_number, \"constituency\"]),\n",
    "                      paste(\"2019: Predicted share in\", full_res[call_number, \"constituency\"]),\n",
    "                      paste(\"2019: Actual share in\", full_res[call_number, \"constituency\"]), \n",
    "                      \"Predicted total before\", \n",
    "                      \"Predicted total after\",\n",
    "                      \"Actual total\")\n",
    "    return(df)\n",
    "}\n",
    "\n",
    "print(summarize(3))"
   ]
  },
  {
   "cell_type": "markdown",
   "metadata": {},
   "source": [
    "One posterior method for seeing how the model has performed is to determine the ratio of predictions that were wrong. We create a `get_wrong` function that finds all incorrectly predicted constituencies, and have `get_ratio` compute the corresponding ratio."
   ]
  },
  {
   "cell_type": "code",
   "execution_count": 13,
   "metadata": {},
   "outputs": [],
   "source": [
    "get_wrong <- function(called){\n",
    "    if(called == model_constituencies){\n",
    "        return(0)\n",
    "    }\n",
    "    \n",
    "    # make data frame of constituencies, predicted winners and actual winners\n",
    "    p <- as.data.frame(slate(called))\n",
    "    p <- cbind(p, parties[apply(p[, parties], 1, which.max)])\n",
    "    p <- cbind(p, parties[apply(tail(full_res, model_constituencies - called)[, parties], 1, which.max)])\n",
    "    colnames(p) <- c(\"constituency\", parties, \"prediction\", \"winner\")\n",
    "    \n",
    "    # return incorrect predictions\n",
    "    wrong <- filter(p, prediction != winner)\n",
    "    return(wrong[c(\"constituency\", \"prediction\", \"winner\")])\n",
    "}\n",
    "\n",
    "get_ratio <- function(called) {\n",
    "    return(nrow(get_wrong(called)) / (model_constituencies - called))\n",
    "}"
   ]
  },
  {
   "cell_type": "markdown",
   "metadata": {},
   "source": [
    "We can then plot the ratios of incorrect predictions."
   ]
  },
  {
   "cell_type": "code",
   "execution_count": 14,
   "metadata": {},
   "outputs": [
    {
     "data": {
      "image/png": "[encoded data removed]",
      "text/plain": [
       "Plot with title \"Ratio of incorrect predictions\""
      ]
     },
     "metadata": {
      "image/png": {
       "height": 420,
       "width": 420
      }
     },
     "output_type": "display_data"
    }
   ],
   "source": [
    "ratios <- lapply(range, get_ratio)\n",
    "matplot(range, ratios, xlab = \"Called\", ylab = \"Ratio\", type = \"l\", lty = 1, lwd = 3)\n",
    "title(\"Ratio of incorrect predictions\")"
   ]
  },
  {
   "cell_type": "markdown",
   "metadata": {},
   "source": [
    "Finally, a very common visualisation of electoral results is by way of a cartogram. In it, each constituency is made to have the same size, since each constituency elects one person. We create one such cartogram for the predicted result at 2:54 AM, when the results from Twickenham and from Stevenage came in."
   ]
  },
  {
   "cell_type": "code",
   "execution_count": 15,
   "metadata": {},
   "outputs": [
    {
     "data": {
      "image/png": "[encoded data removed]",
      "text/plain": [
       "plot without title"
      ]
     },
     "metadata": {
      "image/png": {
       "height": 420,
       "width": 420
      }
     },
     "output_type": "display_data"
    }
   ],
   "source": [
    "# read map file\n",
    "gpkg_file <- \"constituencies.gpkg\"\n",
    "gpkg_cons <- st_read(gpkg_file, layer = \"4 Constituencies\", quiet = TRUE)\n",
    "\n",
    "# create data frame of constituencies, winners and party colors\n",
    "show <- 170\n",
    "p <- slate(show)\n",
    "colnames(p) <- c(\"constituency\", parties)\n",
    "p <- rbind(full_res[1 : show, c(\"constituency\", parties)], p)\n",
    "colnames(p) <- c(\"pcon.name\", parties)\n",
    "p$winner <- parties[apply(p[, parties], 1, which.max)]\n",
    "p$color <- setNames(colors, parties)[p$winner]\n",
    "p <- p[c(\"pcon.name\", \"winner\", \"color\")]\n",
    "\n",
    "# rename constituencies to align with map file\n",
    "p$pcon.name <- mgsub(p$pcon.name,\n",
    "    c(\" Of\", \"-On\", \"Upon\", \"Under\", \"Môn\", \"An Iar\"),\n",
    "    c(\" of\", \"-on\", \"upon\", \"under\", \"Mon\", \"an Iar\"))\n",
    "\n",
    "# add previously removed constituencies\n",
    "missing <- data.frame(pcon.name = setdiff(gpkg_cons[[\"pcon.name\"]], p[[\"pcon.name\"]]))\n",
    "missing$winner <- \"Oth\"\n",
    "missing$color <- \"gray\"\n",
    "p <- rbind(p, missing)\n",
    "\n",
    "# add winners and party colors to map file\n",
    "gpkg_cons <- gpkg_cons %>% left_join(p, by = \"pcon.name\")\n",
    "\n",
    "# plot\n",
    "plt <- ggplot(data = gpkg_cons) + geom_sf(aes(fill = color)) + \n",
    "       scale_fill_identity(breaks = colors, labels = paste(parties, seats(show)[1, ], sep = \": \"), \n",
    "                           name = \"Party\", guide = \"legend\") + \n",
    "       coord_sf(datum = NA) + \n",
    "       labs(title = paste(\"Predicted results after \", full_res[show, \"constituency\"], \n",
    "                          \" was called (\", show, \"/\", model_constituencies, \")\", sep = \"\"))\n",
    "plt"
   ]
  },
  {
   "cell_type": "markdown",
   "metadata": {},
   "source": [
    "We can also create a cartogram emphasizing the incorrectly predicted constituencies. "
   ]
  },
  {
   "cell_type": "code",
   "execution_count": 16,
   "metadata": {},
   "outputs": [
    {
     "data": {
      "image/png": "[encoded data removed]",
      "text/plain": [
       "plot without title"
      ]
     },
     "metadata": {
      "image/png": {
       "height": 420,
       "width": 420
      }
     },
     "output_type": "display_data"
    }
   ],
   "source": [
    "# read map file\n",
    "gpkg_file <- \"constituencies.gpkg\"\n",
    "gpkg_cons <- st_read(gpkg_file, layer = \"4 Constituencies\", quiet = TRUE)\n",
    "\n",
    "# amend p to color correct predictions green\n",
    "wrong <- get_wrong(show)\n",
    "wrong <- within(wrong, rm(\"prediction\"))\n",
    "colnames(wrong) <- c(\"pcon.name\", \"winner\")\n",
    "wrong$color <- setNames(colors, parties)[wrong$winner] \n",
    "p <- p %>% left_join(wrong, by = \"pcon.name\", suffix = c(\"\", \"_new\")) \n",
    "p <- p %>%\n",
    "  mutate(winner = ifelse(!is.na(winner_new), winner_new, \"Correct\")) %>%\n",
    "  mutate(color = ifelse(!is.na(color_new), color_new, \"darkseagreen1\")) %>%\n",
    "  select(-winner_new) %>%\n",
    "  select(-color_new)\n",
    "\n",
    "# color called constituencies white\n",
    "p[1 : show, ]$winner <- \"Called\"\n",
    "p[1 : show, ]$color <- \"white\"\n",
    "p[(model_constituencies + 1) : 650, ]$winner <- \"Called\"\n",
    "p[(model_constituencies + 1) : 650, ]$color <- \"white\"\n",
    "\n",
    "# add winners and party colors to map file\n",
    "gpkg_cons <- gpkg_cons %>% left_join(p, by = \"pcon.name\")\n",
    "\n",
    "# plot\n",
    "plt <- ggplot(data = gpkg_cons) + geom_sf(aes(fill = color)) + \n",
    "       scale_fill_identity(breaks = c(colors, \"darkseagreen1\", \"white\"), \n",
    "                           labels = c(parties, \"Correct\", \"Called\"), \n",
    "                           name = \"Actual winner\", guide = \"legend\") + \n",
    "       coord_sf(datum = NA) + \n",
    "       labs(title = paste(\"Predicted results after \", full_res[show, \"constituency\"], \n",
    "                          \" was called (\", show, \"/\", model_constituencies, \")\", sep = \"\"))\n",
    "plt"
   ]
  },
  {
   "cell_type": "markdown",
   "metadata": {},
   "source": [
    "# Notes\n",
    "\n",
    "## Possible improvements\n",
    "\n",
    "One limitation of the solution is that it is computationally heavy. Two of the generated graphs each require about a minute to be plotted.\n",
    "\n",
    "The way the problem in the project is defined, it's not exactly clear at what point the model should be evaluated for its performance. A more specific problem task, like creating a model using the first half of constituency results, would be helpful.\n",
    "\n",
    "Also, for some constituencies, the predicted vote shares are unrealistic. One example is the predicted vote share in Twickenham for the Liberal Democrats, right before the constituency is called."
   ]
  },
  {
   "cell_type": "code",
   "execution_count": 17,
   "metadata": {},
   "outputs": [
    {
     "name": "stdout",
     "output_type": "stream",
     "text": [
      "                                      Lab    Con     LD SNP PC   Oth\n",
      "2017: Actual share in Twickenham    9.22% 38.03% 52.75%  0% 0%    0%\n",
      "2019: Predicted share in Twickenham  3.6%    13% 81.74%  0% 0% 1.67%\n",
      "2019: Actual share in Twickenham    8.49% 34.18% 56.07%  0% 0% 1.27%\n",
      "Predicted total before                202    346     23  54  4    21\n",
      "Predicted total after                 202    359      9  55  4    21\n",
      "Actual total                          202    365     11  48  4    20\n"
     ]
    }
   ],
   "source": [
    "print(summarize(169))"
   ]
  },
  {
   "cell_type": "markdown",
   "metadata": {},
   "source": [
    "Since there are many predictor variables, it would be reasonable to introduce a selection method, such as forward stepwise selection. Having less predictors as a result can help avoid outlying predictions like this. However, this makes the workflow slower.\n",
    "\n",
    "Also, the model uses only fixed effects. Introducing random effects, which are unsupported by `nnet::multinom()` and would hence require a different implementation, would be reasonable for predictors like `country`.\n",
    "\n",
    "Finally, this project is difficult to reuse for the 2024 election because of the changes to the constituency boundaries, the lack of declaration time information for 2024 on the House of Commons Library website, and because results from prior elections have to be adapted to the new boundaries."
   ]
  },
  {
   "cell_type": "markdown",
   "metadata": {},
   "source": [
    "## FAIR principles\n",
    "\n",
    "The project is findable, since it is stored on GitHub under a specific repository name, with relevant tags provided.\n",
    "\n",
    "The project is accessible through the HTTPS protocol. The repository is public, and GitHub's version control ensures this current version of the project will be available.\n",
    "\n",
    "The project is interoperable. Standard formats (`.csv`, `.xlsx`, `.gpkg`, `.txt`, `.ipynb`) are used. A `requirements.txt` file is provided for the used libraries. \n",
    "\n",
    "The project is reusable. The code is well-documented through comments and markdown in a Jupyter notebook. The code is modular, with functions that can be used for other visualisations and analysis. A license is specified."
   ]
  }
 ],
 "metadata": {
  "kernelspec": {
   "display_name": "R",
   "language": "R",
   "name": "ir"
  },
  "language_info": {
   "codemirror_mode": "r",
   "file_extension": ".r",
   "mimetype": "text/x-r-source",
   "name": "R",
   "pygments_lexer": "r",
   "version": "4.3.3"
  }
 },
 "nbformat": 4,
 "nbformat_minor": 4
}
